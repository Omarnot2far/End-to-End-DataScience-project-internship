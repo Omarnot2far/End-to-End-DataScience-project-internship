{
  "cells": [
    {
      "cell_type": "markdown",
      "metadata": {
        "id": "view-in-github",
        "colab_type": "text"
      },
      "source": [
        "<a href=\"https://colab.research.google.com/github/Omarnot2far/End-to-End-DataScience-project-internship/blob/main/webscrappin_BritishAirline_Reveiw.ipynb\" target=\"_parent\"><img src=\"https://colab.research.google.com/assets/colab-badge.svg\" alt=\"Open In Colab\"/></a>"
      ]
    },
    {
      "cell_type": "code",
      "execution_count": 86,
      "metadata": {
        "colab": {
          "base_uri": "https://localhost:8080/"
        },
        "id": "17t6m5DjB-PK",
        "outputId": "2f60eed7-7e87-4163-97d5-5c8fceebb415"
      },
      "outputs": [
        {
          "output_type": "stream",
          "name": "stdout",
          "text": [
            "Looking in indexes: https://pypi.org/simple, https://us-python.pkg.dev/colab-wheels/public/simple/\n",
            "Requirement already satisfied: beautifulsoup4 in /usr/local/lib/python3.10/dist-packages (4.11.2)\n",
            "Requirement already satisfied: soupsieve>1.2 in /usr/local/lib/python3.10/dist-packages (from beautifulsoup4) (2.4.1)\n"
          ]
        }
      ],
      "source": [
        "pip install beautifulsoup4\n"
      ]
    },
    {
      "cell_type": "code",
      "execution_count": 87,
      "metadata": {
        "colab": {
          "base_uri": "https://localhost:8080/"
        },
        "id": "w_XHB3Y9CQxY",
        "outputId": "455d7bf0-2374-4956-d469-179a5e4186c3"
      },
      "outputs": [
        {
          "output_type": "stream",
          "name": "stdout",
          "text": [
            "Looking in indexes: https://pypi.org/simple, https://us-python.pkg.dev/colab-wheels/public/simple/\n",
            "Requirement already satisfied: requests in /usr/local/lib/python3.10/dist-packages (2.27.1)\n",
            "Requirement already satisfied: urllib3<1.27,>=1.21.1 in /usr/local/lib/python3.10/dist-packages (from requests) (1.26.15)\n",
            "Requirement already satisfied: certifi>=2017.4.17 in /usr/local/lib/python3.10/dist-packages (from requests) (2022.12.7)\n",
            "Requirement already satisfied: charset-normalizer~=2.0.0 in /usr/local/lib/python3.10/dist-packages (from requests) (2.0.12)\n",
            "Requirement already satisfied: idna<4,>=2.5 in /usr/local/lib/python3.10/dist-packages (from requests) (3.4)\n"
          ]
        }
      ],
      "source": [
        "pip install requests"
      ]
    },
    {
      "cell_type": "markdown",
      "source": [
        "# Web Scrapping"
      ],
      "metadata": {
        "id": "oqMNODEX8Oyi"
      }
    },
    {
      "cell_type": "code",
      "source": [
        "from bs4 import BeautifulSoup\n",
        "import requests\n",
        "import pandas as pd\n",
        "\n",
        "# Define the URL pattern\n",
        "url_pattern = 'https://www.airlinequality.com/airline-reviews/british-airways/page/{}/'\n",
        "\n",
        "# Initialize empty lists to store the data\n",
        "data = []\n",
        "\n",
        "# Loop through all the pages\n",
        "for page in range(1, 101):\n",
        "    # Make a request to the webpage\n",
        "    url = url_pattern.format(page)\n",
        "    response = requests.get(url)\n",
        "    \n",
        "    # Parse the HTML content using BeautifulSoup\n",
        "    soup = BeautifulSoup(response.content, 'html.parser')\n",
        "    \n",
        "    # Find all the reviews on the page\n",
        "    reviews = soup.find_all('article', {'itemtype': 'http://schema.org/Review'})\n",
        "    \n",
        "    # Loop through the reviews and extract the data\n",
        "    for review in reviews:\n",
        "        rating = review.find('span', {'itemprop': 'ratingValue'}).text\n",
        "        headline = review.find('h2', class_='text_header').text\n",
        "        author = review.find('span', {'itemprop': 'author'}).text\n",
        "        time = review.find('time', {'itemprop': 'datePublished'}).text\n",
        "        location = review.find('h3', class_='text_sub_header userStatusWrapper').text\n",
        "        content = review.find('div', class_='text_content').text\n",
        "\n",
        "        data.append({'rating': rating, 'headline': headline, 'author' : author, 'time': time, 'location': location, 'content': content})\n",
        "\n",
        "# Convert the list of dictionaries to a pandas DataFrame\n",
        "df = pd.DataFrame(data, columns=['rating', 'headline', 'author', 'time', 'location', 'content'])\n",
        "print(df)\n"
      ],
      "metadata": {
        "colab": {
          "base_uri": "https://localhost:8080/"
        },
        "id": "oucZh0r3bF1n",
        "outputId": "d3b06ea5-71b0-4f22-e563-e0d905ff7dc8"
      },
      "execution_count": 88,
      "outputs": [
        {
          "output_type": "stream",
          "name": "stdout",
          "text": [
            "    rating                                  headline              author  \\\n",
            "0        1          \"most appalling airline service\"           \\nC Peale   \n",
            "1        1            \"Customer service is shocking\"     \\nJason Wickert   \n",
            "2        1                     \"Avoid this airline\"          \\nS Dasirou   \n",
            "3        2         \"a lot of actual lies being told\"  \\nAlexander George   \n",
            "4        5  \"premium price for very average service\"           \\nG Jones   \n",
            "..     ...                                       ...                 ...   \n",
            "995      1               \"first and last experience\"           \\nH Reyes   \n",
            "996      1       \"charged £65 to bring my bike back\"        \\nMark Howes   \n",
            "997      1          \"queue for bag drop was massive\"            \\nL Wang   \n",
            "998      1                       \"they did not care\"        \\nDavid Moss   \n",
            "999      8           \"always had a great experience\"   \\nKirsten Durward   \n",
            "\n",
            "                time                                           location  \\\n",
            "0       8th May 2023               \\n\\nC Peale (Australia) 8th May 2023   \n",
            "1       6th May 2023    \\n\\nJason Wickert (United Kingdom) 6th May 2023   \n",
            "2       6th May 2023        \\n\\nS Dasirou (United Kingdom) 6th May 2023   \n",
            "3       1st May 2023  \\n\\nAlexander George (United Kingdom) 1st May ...   \n",
            "4    28th April 2023       \\n\\nG Jones (United Kingdom) 28th April 2023   \n",
            "..               ...                                                ...   \n",
            "995    9th July 2018                \\n\\nH Reyes (Ireland) 9th July 2018   \n",
            "996    9th July 2018      \\n\\nMark Howes (United Kingdom) 9th July 2018   \n",
            "997    8th July 2018          \\n\\nL Wang (United Kingdom) 8th July 2018   \n",
            "998    5th July 2018      \\n\\nDavid Moss (United Kingdom) 5th July 2018   \n",
            "999   29th June 2018  \\n\\nKirsten Durward (United Kingdom) 29th June...   \n",
            "\n",
            "                                               content  \n",
            "0    ✅ Trip Verified |  I will never travel with Br...  \n",
            "1    ✅ Trip Verified |  I am already in Portugal so...  \n",
            "2    ✅ Trip Verified |  Terrible. Avoid this airlin...  \n",
            "3    ✅ Trip Verified |  Despite being a gold member...  \n",
            "4    Not Verified | Regarding the aircraft and seat...  \n",
            "..                                                 ...  \n",
            "995  ✅ Trip Verified |  Had four flights in total w...  \n",
            "996  ✅ Trip Verified |  Johannesburg to Heathrow. B...  \n",
            "997  ✅ Trip Verified |  The queue for bag drop was ...  \n",
            "998  ✅ Trip Verified |  British Airways changed pla...  \n",
            "999  ✅ Trip Verified |  Mumbai to Edinburgh via Lon...  \n",
            "\n",
            "[1000 rows x 6 columns]\n"
          ]
        }
      ]
    },
    {
      "cell_type": "code",
      "source": [
        "df.head()"
      ],
      "metadata": {
        "colab": {
          "base_uri": "https://localhost:8080/",
          "height": 302
        },
        "id": "mOkTNzVTbnP2",
        "outputId": "b4919f19-173c-4baa-da74-bed729446f64"
      },
      "execution_count": 89,
      "outputs": [
        {
          "output_type": "execute_result",
          "data": {
            "text/plain": [
              "  rating                                  headline              author  \\\n",
              "0      1          \"most appalling airline service\"           \\nC Peale   \n",
              "1      1            \"Customer service is shocking\"     \\nJason Wickert   \n",
              "2      1                     \"Avoid this airline\"          \\nS Dasirou   \n",
              "3      2         \"a lot of actual lies being told\"  \\nAlexander George   \n",
              "4      5  \"premium price for very average service\"           \\nG Jones   \n",
              "\n",
              "              time                                           location  \\\n",
              "0     8th May 2023               \\n\\nC Peale (Australia) 8th May 2023   \n",
              "1     6th May 2023    \\n\\nJason Wickert (United Kingdom) 6th May 2023   \n",
              "2     6th May 2023        \\n\\nS Dasirou (United Kingdom) 6th May 2023   \n",
              "3     1st May 2023  \\n\\nAlexander George (United Kingdom) 1st May ...   \n",
              "4  28th April 2023       \\n\\nG Jones (United Kingdom) 28th April 2023   \n",
              "\n",
              "                                             content  \n",
              "0  ✅ Trip Verified |  I will never travel with Br...  \n",
              "1  ✅ Trip Verified |  I am already in Portugal so...  \n",
              "2  ✅ Trip Verified |  Terrible. Avoid this airlin...  \n",
              "3  ✅ Trip Verified |  Despite being a gold member...  \n",
              "4  Not Verified | Regarding the aircraft and seat...  "
            ],
            "text/html": [
              "\n",
              "  <div id=\"df-11c3aeaa-4d6f-41e0-bbf6-567aeb2cdf62\">\n",
              "    <div class=\"colab-df-container\">\n",
              "      <div>\n",
              "<style scoped>\n",
              "    .dataframe tbody tr th:only-of-type {\n",
              "        vertical-align: middle;\n",
              "    }\n",
              "\n",
              "    .dataframe tbody tr th {\n",
              "        vertical-align: top;\n",
              "    }\n",
              "\n",
              "    .dataframe thead th {\n",
              "        text-align: right;\n",
              "    }\n",
              "</style>\n",
              "<table border=\"1\" class=\"dataframe\">\n",
              "  <thead>\n",
              "    <tr style=\"text-align: right;\">\n",
              "      <th></th>\n",
              "      <th>rating</th>\n",
              "      <th>headline</th>\n",
              "      <th>author</th>\n",
              "      <th>time</th>\n",
              "      <th>location</th>\n",
              "      <th>content</th>\n",
              "    </tr>\n",
              "  </thead>\n",
              "  <tbody>\n",
              "    <tr>\n",
              "      <th>0</th>\n",
              "      <td>1</td>\n",
              "      <td>\"most appalling airline service\"</td>\n",
              "      <td>\\nC Peale</td>\n",
              "      <td>8th May 2023</td>\n",
              "      <td>\\n\\nC Peale (Australia) 8th May 2023</td>\n",
              "      <td>✅ Trip Verified |  I will never travel with Br...</td>\n",
              "    </tr>\n",
              "    <tr>\n",
              "      <th>1</th>\n",
              "      <td>1</td>\n",
              "      <td>\"Customer service is shocking\"</td>\n",
              "      <td>\\nJason Wickert</td>\n",
              "      <td>6th May 2023</td>\n",
              "      <td>\\n\\nJason Wickert (United Kingdom) 6th May 2023</td>\n",
              "      <td>✅ Trip Verified |  I am already in Portugal so...</td>\n",
              "    </tr>\n",
              "    <tr>\n",
              "      <th>2</th>\n",
              "      <td>1</td>\n",
              "      <td>\"Avoid this airline\"</td>\n",
              "      <td>\\nS Dasirou</td>\n",
              "      <td>6th May 2023</td>\n",
              "      <td>\\n\\nS Dasirou (United Kingdom) 6th May 2023</td>\n",
              "      <td>✅ Trip Verified |  Terrible. Avoid this airlin...</td>\n",
              "    </tr>\n",
              "    <tr>\n",
              "      <th>3</th>\n",
              "      <td>2</td>\n",
              "      <td>\"a lot of actual lies being told\"</td>\n",
              "      <td>\\nAlexander George</td>\n",
              "      <td>1st May 2023</td>\n",
              "      <td>\\n\\nAlexander George (United Kingdom) 1st May ...</td>\n",
              "      <td>✅ Trip Verified |  Despite being a gold member...</td>\n",
              "    </tr>\n",
              "    <tr>\n",
              "      <th>4</th>\n",
              "      <td>5</td>\n",
              "      <td>\"premium price for very average service\"</td>\n",
              "      <td>\\nG Jones</td>\n",
              "      <td>28th April 2023</td>\n",
              "      <td>\\n\\nG Jones (United Kingdom) 28th April 2023</td>\n",
              "      <td>Not Verified | Regarding the aircraft and seat...</td>\n",
              "    </tr>\n",
              "  </tbody>\n",
              "</table>\n",
              "</div>\n",
              "      <button class=\"colab-df-convert\" onclick=\"convertToInteractive('df-11c3aeaa-4d6f-41e0-bbf6-567aeb2cdf62')\"\n",
              "              title=\"Convert this dataframe to an interactive table.\"\n",
              "              style=\"display:none;\">\n",
              "        \n",
              "  <svg xmlns=\"http://www.w3.org/2000/svg\" height=\"24px\"viewBox=\"0 0 24 24\"\n",
              "       width=\"24px\">\n",
              "    <path d=\"M0 0h24v24H0V0z\" fill=\"none\"/>\n",
              "    <path d=\"M18.56 5.44l.94 2.06.94-2.06 2.06-.94-2.06-.94-.94-2.06-.94 2.06-2.06.94zm-11 1L8.5 8.5l.94-2.06 2.06-.94-2.06-.94L8.5 2.5l-.94 2.06-2.06.94zm10 10l.94 2.06.94-2.06 2.06-.94-2.06-.94-.94-2.06-.94 2.06-2.06.94z\"/><path d=\"M17.41 7.96l-1.37-1.37c-.4-.4-.92-.59-1.43-.59-.52 0-1.04.2-1.43.59L10.3 9.45l-7.72 7.72c-.78.78-.78 2.05 0 2.83L4 21.41c.39.39.9.59 1.41.59.51 0 1.02-.2 1.41-.59l7.78-7.78 2.81-2.81c.8-.78.8-2.07 0-2.86zM5.41 20L4 18.59l7.72-7.72 1.47 1.35L5.41 20z\"/>\n",
              "  </svg>\n",
              "      </button>\n",
              "      \n",
              "  <style>\n",
              "    .colab-df-container {\n",
              "      display:flex;\n",
              "      flex-wrap:wrap;\n",
              "      gap: 12px;\n",
              "    }\n",
              "\n",
              "    .colab-df-convert {\n",
              "      background-color: #E8F0FE;\n",
              "      border: none;\n",
              "      border-radius: 50%;\n",
              "      cursor: pointer;\n",
              "      display: none;\n",
              "      fill: #1967D2;\n",
              "      height: 32px;\n",
              "      padding: 0 0 0 0;\n",
              "      width: 32px;\n",
              "    }\n",
              "\n",
              "    .colab-df-convert:hover {\n",
              "      background-color: #E2EBFA;\n",
              "      box-shadow: 0px 1px 2px rgba(60, 64, 67, 0.3), 0px 1px 3px 1px rgba(60, 64, 67, 0.15);\n",
              "      fill: #174EA6;\n",
              "    }\n",
              "\n",
              "    [theme=dark] .colab-df-convert {\n",
              "      background-color: #3B4455;\n",
              "      fill: #D2E3FC;\n",
              "    }\n",
              "\n",
              "    [theme=dark] .colab-df-convert:hover {\n",
              "      background-color: #434B5C;\n",
              "      box-shadow: 0px 1px 3px 1px rgba(0, 0, 0, 0.15);\n",
              "      filter: drop-shadow(0px 1px 2px rgba(0, 0, 0, 0.3));\n",
              "      fill: #FFFFFF;\n",
              "    }\n",
              "  </style>\n",
              "\n",
              "      <script>\n",
              "        const buttonEl =\n",
              "          document.querySelector('#df-11c3aeaa-4d6f-41e0-bbf6-567aeb2cdf62 button.colab-df-convert');\n",
              "        buttonEl.style.display =\n",
              "          google.colab.kernel.accessAllowed ? 'block' : 'none';\n",
              "\n",
              "        async function convertToInteractive(key) {\n",
              "          const element = document.querySelector('#df-11c3aeaa-4d6f-41e0-bbf6-567aeb2cdf62');\n",
              "          const dataTable =\n",
              "            await google.colab.kernel.invokeFunction('convertToInteractive',\n",
              "                                                     [key], {});\n",
              "          if (!dataTable) return;\n",
              "\n",
              "          const docLinkHtml = 'Like what you see? Visit the ' +\n",
              "            '<a target=\"_blank\" href=https://colab.research.google.com/notebooks/data_table.ipynb>data table notebook</a>'\n",
              "            + ' to learn more about interactive tables.';\n",
              "          element.innerHTML = '';\n",
              "          dataTable['output_type'] = 'display_data';\n",
              "          await google.colab.output.renderOutput(dataTable, element);\n",
              "          const docLink = document.createElement('div');\n",
              "          docLink.innerHTML = docLinkHtml;\n",
              "          element.appendChild(docLink);\n",
              "        }\n",
              "      </script>\n",
              "    </div>\n",
              "  </div>\n",
              "  "
            ]
          },
          "metadata": {},
          "execution_count": 89
        }
      ]
    },
    {
      "cell_type": "code",
      "source": [
        "df.shape"
      ],
      "metadata": {
        "colab": {
          "base_uri": "https://localhost:8080/"
        },
        "id": "ecv_kZqPbzzD",
        "outputId": "30aef777-3722-4c16-8196-41f24bfa6c50"
      },
      "execution_count": 90,
      "outputs": [
        {
          "output_type": "execute_result",
          "data": {
            "text/plain": [
              "(1000, 6)"
            ]
          },
          "metadata": {},
          "execution_count": 90
        }
      ]
    },
    {
      "cell_type": "code",
      "source": [
        "df.to_csv('britishair_data', index=False)"
      ],
      "metadata": {
        "id": "sGUyoVAeMvly"
      },
      "execution_count": 116,
      "outputs": []
    }
  ],
  "metadata": {
    "colab": {
      "provenance": [],
      "authorship_tag": "ABX9TyN3xlubZPjvM12p5m4AeAb9",
      "include_colab_link": true
    },
    "kernelspec": {
      "display_name": "Python 3",
      "name": "python3"
    },
    "language_info": {
      "name": "python"
    }
  },
  "nbformat": 4,
  "nbformat_minor": 0
}