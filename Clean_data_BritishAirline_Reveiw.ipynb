{
  "cells": [
    {
      "cell_type": "markdown",
      "metadata": {
        "id": "view-in-github",
        "colab_type": "text"
      },
      "source": [
        "<a href=\"https://colab.research.google.com/github/Omarnot2far/End-to-End-DataScience-project-internship/blob/main/Clean_data_BritishAirline_Reveiw.ipynb\" target=\"_parent\"><img src=\"https://colab.research.google.com/assets/colab-badge.svg\" alt=\"Open In Colab\"/></a>"
      ]
    },
    {
      "cell_type": "code",
      "execution_count": 126,
      "metadata": {
        "colab": {
          "base_uri": "https://localhost:8080/"
        },
        "id": "17t6m5DjB-PK",
        "outputId": "0ef3e65b-c245-4b86-e19b-26c332532403"
      },
      "outputs": [
        {
          "output_type": "stream",
          "name": "stdout",
          "text": [
            "Looking in indexes: https://pypi.org/simple, https://us-python.pkg.dev/colab-wheels/public/simple/\n",
            "Requirement already satisfied: beautifulsoup4 in /usr/local/lib/python3.10/dist-packages (4.11.2)\n",
            "Requirement already satisfied: soupsieve>1.2 in /usr/local/lib/python3.10/dist-packages (from beautifulsoup4) (2.4.1)\n"
          ]
        }
      ],
      "source": [
        "pip install beautifulsoup4\n"
      ]
    },
    {
      "cell_type": "code",
      "execution_count": 127,
      "metadata": {
        "colab": {
          "base_uri": "https://localhost:8080/"
        },
        "id": "w_XHB3Y9CQxY",
        "outputId": "77e22a5c-301f-4416-eab9-51c778860235"
      },
      "outputs": [
        {
          "output_type": "stream",
          "name": "stdout",
          "text": [
            "Looking in indexes: https://pypi.org/simple, https://us-python.pkg.dev/colab-wheels/public/simple/\n",
            "Requirement already satisfied: requests in /usr/local/lib/python3.10/dist-packages (2.27.1)\n",
            "Requirement already satisfied: urllib3<1.27,>=1.21.1 in /usr/local/lib/python3.10/dist-packages (from requests) (1.26.15)\n",
            "Requirement already satisfied: certifi>=2017.4.17 in /usr/local/lib/python3.10/dist-packages (from requests) (2022.12.7)\n",
            "Requirement already satisfied: charset-normalizer~=2.0.0 in /usr/local/lib/python3.10/dist-packages (from requests) (2.0.12)\n",
            "Requirement already satisfied: idna<4,>=2.5 in /usr/local/lib/python3.10/dist-packages (from requests) (3.4)\n"
          ]
        }
      ],
      "source": [
        "pip install requests"
      ]
    },
    {
      "cell_type": "markdown",
      "source": [
        "# Web Scrapping"
      ],
      "metadata": {
        "id": "oqMNODEX8Oyi"
      }
    },
    {
      "cell_type": "code",
      "source": [
        "from bs4 import BeautifulSoup\n",
        "import requests\n",
        "import pandas as pd\n",
        "\n",
        "# Define the URL pattern\n",
        "url_pattern = 'https://www.airlinequality.com/airline-reviews/british-airways/page/{}/'\n",
        "\n",
        "# Initialize empty lists to store the data\n",
        "data = []\n",
        "\n",
        "# Loop through all the pages\n",
        "for page in range(1, 101):\n",
        "    # Make a request to the webpage\n",
        "    url = url_pattern.format(page)\n",
        "    response = requests.get(url)\n",
        "    \n",
        "    # Parse the HTML content using BeautifulSoup\n",
        "    soup = BeautifulSoup(response.content, 'html.parser')\n",
        "    \n",
        "    # Find all the reviews on the page\n",
        "    reviews = soup.find_all('article', {'itemtype': 'http://schema.org/Review'})\n",
        "    \n",
        "    # Loop through the reviews and extract the data\n",
        "    for review in reviews:\n",
        "        rating = review.find('span', {'itemprop': 'ratingValue'}).text\n",
        "        headline = review.find('h2', class_='text_header').text\n",
        "        author = review.find('span', {'itemprop': 'author'}).text\n",
        "        time = review.find('time', {'itemprop': 'datePublished'}).text\n",
        "        location = review.find('h3', class_='text_sub_header userStatusWrapper').text\n",
        "        content = review.find('div', class_='text_content').text\n",
        "\n",
        "        data.append({'rating': rating, 'headline': headline, 'author' : author, 'time': time, 'location': location, 'content': content})\n",
        "\n",
        "# Convert the list of dictionaries to a pandas DataFrame\n",
        "df = pd.DataFrame(data, columns=['rating', 'headline', 'author', 'time', 'location', 'content'])\n",
        "print(df)\n"
      ],
      "metadata": {
        "colab": {
          "base_uri": "https://localhost:8080/"
        },
        "id": "oucZh0r3bF1n",
        "outputId": "9f59aac0-a8fd-419f-ed34-f1ec7c70364b"
      },
      "execution_count": 128,
      "outputs": [
        {
          "output_type": "stream",
          "name": "stdout",
          "text": [
            "    rating                                  headline              author  \\\n",
            "0        1          \"most appalling airline service\"           \\nC Peale   \n",
            "1        1            \"Customer service is shocking\"     \\nJason Wickert   \n",
            "2        1                     \"Avoid this airline\"          \\nS Dasirou   \n",
            "3        2         \"a lot of actual lies being told\"  \\nAlexander George   \n",
            "4        5  \"premium price for very average service\"           \\nG Jones   \n",
            "..     ...                                       ...                 ...   \n",
            "995      1               \"first and last experience\"           \\nH Reyes   \n",
            "996      1       \"charged £65 to bring my bike back\"        \\nMark Howes   \n",
            "997      1          \"queue for bag drop was massive\"            \\nL Wang   \n",
            "998      1                       \"they did not care\"        \\nDavid Moss   \n",
            "999      8           \"always had a great experience\"   \\nKirsten Durward   \n",
            "\n",
            "                time                                           location  \\\n",
            "0       8th May 2023               \\n\\nC Peale (Australia) 8th May 2023   \n",
            "1       6th May 2023    \\n\\nJason Wickert (United Kingdom) 6th May 2023   \n",
            "2       6th May 2023        \\n\\nS Dasirou (United Kingdom) 6th May 2023   \n",
            "3       1st May 2023  \\n\\nAlexander George (United Kingdom) 1st May ...   \n",
            "4    28th April 2023       \\n\\nG Jones (United Kingdom) 28th April 2023   \n",
            "..               ...                                                ...   \n",
            "995    9th July 2018                \\n\\nH Reyes (Ireland) 9th July 2018   \n",
            "996    9th July 2018      \\n\\nMark Howes (United Kingdom) 9th July 2018   \n",
            "997    8th July 2018          \\n\\nL Wang (United Kingdom) 8th July 2018   \n",
            "998    5th July 2018      \\n\\nDavid Moss (United Kingdom) 5th July 2018   \n",
            "999   29th June 2018  \\n\\nKirsten Durward (United Kingdom) 29th June...   \n",
            "\n",
            "                                               content  \n",
            "0    ✅ Trip Verified |  I will never travel with Br...  \n",
            "1    ✅ Trip Verified |  I am already in Portugal so...  \n",
            "2    ✅ Trip Verified |  Terrible. Avoid this airlin...  \n",
            "3    ✅ Trip Verified |  Despite being a gold member...  \n",
            "4    Not Verified | Regarding the aircraft and seat...  \n",
            "..                                                 ...  \n",
            "995  ✅ Trip Verified |  Had four flights in total w...  \n",
            "996  ✅ Trip Verified |  Johannesburg to Heathrow. B...  \n",
            "997  ✅ Trip Verified |  The queue for bag drop was ...  \n",
            "998  ✅ Trip Verified |  British Airways changed pla...  \n",
            "999  ✅ Trip Verified |  Mumbai to Edinburgh via Lon...  \n",
            "\n",
            "[1000 rows x 6 columns]\n"
          ]
        }
      ]
    },
    {
      "cell_type": "code",
      "source": [
        "df.head()"
      ],
      "metadata": {
        "colab": {
          "base_uri": "https://localhost:8080/",
          "height": 302
        },
        "id": "mOkTNzVTbnP2",
        "outputId": "76ed86c0-2c0c-40ff-8d11-4ecd4f8f52be"
      },
      "execution_count": 129,
      "outputs": [
        {
          "output_type": "execute_result",
          "data": {
            "text/plain": [
              "  rating                                  headline              author  \\\n",
              "0      1          \"most appalling airline service\"           \\nC Peale   \n",
              "1      1            \"Customer service is shocking\"     \\nJason Wickert   \n",
              "2      1                     \"Avoid this airline\"          \\nS Dasirou   \n",
              "3      2         \"a lot of actual lies being told\"  \\nAlexander George   \n",
              "4      5  \"premium price for very average service\"           \\nG Jones   \n",
              "\n",
              "              time                                           location  \\\n",
              "0     8th May 2023               \\n\\nC Peale (Australia) 8th May 2023   \n",
              "1     6th May 2023    \\n\\nJason Wickert (United Kingdom) 6th May 2023   \n",
              "2     6th May 2023        \\n\\nS Dasirou (United Kingdom) 6th May 2023   \n",
              "3     1st May 2023  \\n\\nAlexander George (United Kingdom) 1st May ...   \n",
              "4  28th April 2023       \\n\\nG Jones (United Kingdom) 28th April 2023   \n",
              "\n",
              "                                             content  \n",
              "0  ✅ Trip Verified |  I will never travel with Br...  \n",
              "1  ✅ Trip Verified |  I am already in Portugal so...  \n",
              "2  ✅ Trip Verified |  Terrible. Avoid this airlin...  \n",
              "3  ✅ Trip Verified |  Despite being a gold member...  \n",
              "4  Not Verified | Regarding the aircraft and seat...  "
            ],
            "text/html": [
              "\n",
              "  <div id=\"df-a07e134c-175c-4c07-b751-a0467477cb08\">\n",
              "    <div class=\"colab-df-container\">\n",
              "      <div>\n",
              "<style scoped>\n",
              "    .dataframe tbody tr th:only-of-type {\n",
              "        vertical-align: middle;\n",
              "    }\n",
              "\n",
              "    .dataframe tbody tr th {\n",
              "        vertical-align: top;\n",
              "    }\n",
              "\n",
              "    .dataframe thead th {\n",
              "        text-align: right;\n",
              "    }\n",
              "</style>\n",
              "<table border=\"1\" class=\"dataframe\">\n",
              "  <thead>\n",
              "    <tr style=\"text-align: right;\">\n",
              "      <th></th>\n",
              "      <th>rating</th>\n",
              "      <th>headline</th>\n",
              "      <th>author</th>\n",
              "      <th>time</th>\n",
              "      <th>location</th>\n",
              "      <th>content</th>\n",
              "    </tr>\n",
              "  </thead>\n",
              "  <tbody>\n",
              "    <tr>\n",
              "      <th>0</th>\n",
              "      <td>1</td>\n",
              "      <td>\"most appalling airline service\"</td>\n",
              "      <td>\\nC Peale</td>\n",
              "      <td>8th May 2023</td>\n",
              "      <td>\\n\\nC Peale (Australia) 8th May 2023</td>\n",
              "      <td>✅ Trip Verified |  I will never travel with Br...</td>\n",
              "    </tr>\n",
              "    <tr>\n",
              "      <th>1</th>\n",
              "      <td>1</td>\n",
              "      <td>\"Customer service is shocking\"</td>\n",
              "      <td>\\nJason Wickert</td>\n",
              "      <td>6th May 2023</td>\n",
              "      <td>\\n\\nJason Wickert (United Kingdom) 6th May 2023</td>\n",
              "      <td>✅ Trip Verified |  I am already in Portugal so...</td>\n",
              "    </tr>\n",
              "    <tr>\n",
              "      <th>2</th>\n",
              "      <td>1</td>\n",
              "      <td>\"Avoid this airline\"</td>\n",
              "      <td>\\nS Dasirou</td>\n",
              "      <td>6th May 2023</td>\n",
              "      <td>\\n\\nS Dasirou (United Kingdom) 6th May 2023</td>\n",
              "      <td>✅ Trip Verified |  Terrible. Avoid this airlin...</td>\n",
              "    </tr>\n",
              "    <tr>\n",
              "      <th>3</th>\n",
              "      <td>2</td>\n",
              "      <td>\"a lot of actual lies being told\"</td>\n",
              "      <td>\\nAlexander George</td>\n",
              "      <td>1st May 2023</td>\n",
              "      <td>\\n\\nAlexander George (United Kingdom) 1st May ...</td>\n",
              "      <td>✅ Trip Verified |  Despite being a gold member...</td>\n",
              "    </tr>\n",
              "    <tr>\n",
              "      <th>4</th>\n",
              "      <td>5</td>\n",
              "      <td>\"premium price for very average service\"</td>\n",
              "      <td>\\nG Jones</td>\n",
              "      <td>28th April 2023</td>\n",
              "      <td>\\n\\nG Jones (United Kingdom) 28th April 2023</td>\n",
              "      <td>Not Verified | Regarding the aircraft and seat...</td>\n",
              "    </tr>\n",
              "  </tbody>\n",
              "</table>\n",
              "</div>\n",
              "      <button class=\"colab-df-convert\" onclick=\"convertToInteractive('df-a07e134c-175c-4c07-b751-a0467477cb08')\"\n",
              "              title=\"Convert this dataframe to an interactive table.\"\n",
              "              style=\"display:none;\">\n",
              "        \n",
              "  <svg xmlns=\"http://www.w3.org/2000/svg\" height=\"24px\"viewBox=\"0 0 24 24\"\n",
              "       width=\"24px\">\n",
              "    <path d=\"M0 0h24v24H0V0z\" fill=\"none\"/>\n",
              "    <path d=\"M18.56 5.44l.94 2.06.94-2.06 2.06-.94-2.06-.94-.94-2.06-.94 2.06-2.06.94zm-11 1L8.5 8.5l.94-2.06 2.06-.94-2.06-.94L8.5 2.5l-.94 2.06-2.06.94zm10 10l.94 2.06.94-2.06 2.06-.94-2.06-.94-.94-2.06-.94 2.06-2.06.94z\"/><path d=\"M17.41 7.96l-1.37-1.37c-.4-.4-.92-.59-1.43-.59-.52 0-1.04.2-1.43.59L10.3 9.45l-7.72 7.72c-.78.78-.78 2.05 0 2.83L4 21.41c.39.39.9.59 1.41.59.51 0 1.02-.2 1.41-.59l7.78-7.78 2.81-2.81c.8-.78.8-2.07 0-2.86zM5.41 20L4 18.59l7.72-7.72 1.47 1.35L5.41 20z\"/>\n",
              "  </svg>\n",
              "      </button>\n",
              "      \n",
              "  <style>\n",
              "    .colab-df-container {\n",
              "      display:flex;\n",
              "      flex-wrap:wrap;\n",
              "      gap: 12px;\n",
              "    }\n",
              "\n",
              "    .colab-df-convert {\n",
              "      background-color: #E8F0FE;\n",
              "      border: none;\n",
              "      border-radius: 50%;\n",
              "      cursor: pointer;\n",
              "      display: none;\n",
              "      fill: #1967D2;\n",
              "      height: 32px;\n",
              "      padding: 0 0 0 0;\n",
              "      width: 32px;\n",
              "    }\n",
              "\n",
              "    .colab-df-convert:hover {\n",
              "      background-color: #E2EBFA;\n",
              "      box-shadow: 0px 1px 2px rgba(60, 64, 67, 0.3), 0px 1px 3px 1px rgba(60, 64, 67, 0.15);\n",
              "      fill: #174EA6;\n",
              "    }\n",
              "\n",
              "    [theme=dark] .colab-df-convert {\n",
              "      background-color: #3B4455;\n",
              "      fill: #D2E3FC;\n",
              "    }\n",
              "\n",
              "    [theme=dark] .colab-df-convert:hover {\n",
              "      background-color: #434B5C;\n",
              "      box-shadow: 0px 1px 3px 1px rgba(0, 0, 0, 0.15);\n",
              "      filter: drop-shadow(0px 1px 2px rgba(0, 0, 0, 0.3));\n",
              "      fill: #FFFFFF;\n",
              "    }\n",
              "  </style>\n",
              "\n",
              "      <script>\n",
              "        const buttonEl =\n",
              "          document.querySelector('#df-a07e134c-175c-4c07-b751-a0467477cb08 button.colab-df-convert');\n",
              "        buttonEl.style.display =\n",
              "          google.colab.kernel.accessAllowed ? 'block' : 'none';\n",
              "\n",
              "        async function convertToInteractive(key) {\n",
              "          const element = document.querySelector('#df-a07e134c-175c-4c07-b751-a0467477cb08');\n",
              "          const dataTable =\n",
              "            await google.colab.kernel.invokeFunction('convertToInteractive',\n",
              "                                                     [key], {});\n",
              "          if (!dataTable) return;\n",
              "\n",
              "          const docLinkHtml = 'Like what you see? Visit the ' +\n",
              "            '<a target=\"_blank\" href=https://colab.research.google.com/notebooks/data_table.ipynb>data table notebook</a>'\n",
              "            + ' to learn more about interactive tables.';\n",
              "          element.innerHTML = '';\n",
              "          dataTable['output_type'] = 'display_data';\n",
              "          await google.colab.output.renderOutput(dataTable, element);\n",
              "          const docLink = document.createElement('div');\n",
              "          docLink.innerHTML = docLinkHtml;\n",
              "          element.appendChild(docLink);\n",
              "        }\n",
              "      </script>\n",
              "    </div>\n",
              "  </div>\n",
              "  "
            ]
          },
          "metadata": {},
          "execution_count": 129
        }
      ]
    },
    {
      "cell_type": "code",
      "source": [
        "df.shape"
      ],
      "metadata": {
        "colab": {
          "base_uri": "https://localhost:8080/"
        },
        "id": "ecv_kZqPbzzD",
        "outputId": "dad8827c-4620-4363-adde-611ec5b13c52"
      },
      "execution_count": 130,
      "outputs": [
        {
          "output_type": "execute_result",
          "data": {
            "text/plain": [
              "(1000, 6)"
            ]
          },
          "metadata": {},
          "execution_count": 130
        }
      ]
    },
    {
      "cell_type": "markdown",
      "source": [
        "# Data Cleaning"
      ],
      "metadata": {
        "id": "q69tW3ro4KpS"
      }
    },
    {
      "cell_type": "code",
      "source": [
        "df = df.replace({'author': '\\n', 'location': '\\n', 'content': '\\n'}, '', regex=True)\n"
      ],
      "metadata": {
        "id": "2nq6Pi6Q4Nyh"
      },
      "execution_count": 131,
      "outputs": []
    },
    {
      "cell_type": "code",
      "source": [
        "import re\n",
        "\n",
        "df['location_info'] = df['location'].str.extract(r'\\((.*?)\\)', expand=False)\n"
      ],
      "metadata": {
        "id": "T5EN-6dN4ced"
      },
      "execution_count": 132,
      "outputs": []
    },
    {
      "cell_type": "code",
      "source": [
        "df = df.drop('location', axis=1)"
      ],
      "metadata": {
        "id": "6PUa5Bi56rCz"
      },
      "execution_count": 133,
      "outputs": []
    },
    {
      "cell_type": "code",
      "source": [
        "df[['trip_varified', 'content']] = df['content'].str.split('|', expand=True)\n"
      ],
      "metadata": {
        "id": "xsIL6T8z60E5"
      },
      "execution_count": 134,
      "outputs": []
    },
    {
      "cell_type": "code",
      "source": [
        "df.head()"
      ],
      "metadata": {
        "colab": {
          "base_uri": "https://localhost:8080/",
          "height": 250
        },
        "id": "1DcXcLVP728Q",
        "outputId": "f075ae3f-bb67-46a2-f326-f9bd85476b71"
      },
      "execution_count": 135,
      "outputs": [
        {
          "output_type": "execute_result",
          "data": {
            "text/plain": [
              "  rating                                  headline            author  \\\n",
              "0      1          \"most appalling airline service\"           C Peale   \n",
              "1      1            \"Customer service is shocking\"     Jason Wickert   \n",
              "2      1                     \"Avoid this airline\"          S Dasirou   \n",
              "3      2         \"a lot of actual lies being told\"  Alexander George   \n",
              "4      5  \"premium price for very average service\"           G Jones   \n",
              "\n",
              "              time                                            content  \\\n",
              "0     8th May 2023    I will never travel with British Airways aga...   \n",
              "1     6th May 2023    I am already in Portugal so contacted them t...   \n",
              "2     6th May 2023    Terrible. Avoid this airline. It’s now becom...   \n",
              "3     1st May 2023    Despite being a gold member, the British Air...   \n",
              "4  28th April 2023   Regarding the aircraft and seat: The business...   \n",
              "\n",
              "    location_info     trip_varified  \n",
              "0       Australia  ✅ Trip Verified   \n",
              "1  United Kingdom  ✅ Trip Verified   \n",
              "2  United Kingdom  ✅ Trip Verified   \n",
              "3  United Kingdom  ✅ Trip Verified   \n",
              "4  United Kingdom     Not Verified   "
            ],
            "text/html": [
              "\n",
              "  <div id=\"df-06361e7f-cb20-4631-9c2b-0c0321c9c0f1\">\n",
              "    <div class=\"colab-df-container\">\n",
              "      <div>\n",
              "<style scoped>\n",
              "    .dataframe tbody tr th:only-of-type {\n",
              "        vertical-align: middle;\n",
              "    }\n",
              "\n",
              "    .dataframe tbody tr th {\n",
              "        vertical-align: top;\n",
              "    }\n",
              "\n",
              "    .dataframe thead th {\n",
              "        text-align: right;\n",
              "    }\n",
              "</style>\n",
              "<table border=\"1\" class=\"dataframe\">\n",
              "  <thead>\n",
              "    <tr style=\"text-align: right;\">\n",
              "      <th></th>\n",
              "      <th>rating</th>\n",
              "      <th>headline</th>\n",
              "      <th>author</th>\n",
              "      <th>time</th>\n",
              "      <th>content</th>\n",
              "      <th>location_info</th>\n",
              "      <th>trip_varified</th>\n",
              "    </tr>\n",
              "  </thead>\n",
              "  <tbody>\n",
              "    <tr>\n",
              "      <th>0</th>\n",
              "      <td>1</td>\n",
              "      <td>\"most appalling airline service\"</td>\n",
              "      <td>C Peale</td>\n",
              "      <td>8th May 2023</td>\n",
              "      <td>I will never travel with British Airways aga...</td>\n",
              "      <td>Australia</td>\n",
              "      <td>✅ Trip Verified</td>\n",
              "    </tr>\n",
              "    <tr>\n",
              "      <th>1</th>\n",
              "      <td>1</td>\n",
              "      <td>\"Customer service is shocking\"</td>\n",
              "      <td>Jason Wickert</td>\n",
              "      <td>6th May 2023</td>\n",
              "      <td>I am already in Portugal so contacted them t...</td>\n",
              "      <td>United Kingdom</td>\n",
              "      <td>✅ Trip Verified</td>\n",
              "    </tr>\n",
              "    <tr>\n",
              "      <th>2</th>\n",
              "      <td>1</td>\n",
              "      <td>\"Avoid this airline\"</td>\n",
              "      <td>S Dasirou</td>\n",
              "      <td>6th May 2023</td>\n",
              "      <td>Terrible. Avoid this airline. It’s now becom...</td>\n",
              "      <td>United Kingdom</td>\n",
              "      <td>✅ Trip Verified</td>\n",
              "    </tr>\n",
              "    <tr>\n",
              "      <th>3</th>\n",
              "      <td>2</td>\n",
              "      <td>\"a lot of actual lies being told\"</td>\n",
              "      <td>Alexander George</td>\n",
              "      <td>1st May 2023</td>\n",
              "      <td>Despite being a gold member, the British Air...</td>\n",
              "      <td>United Kingdom</td>\n",
              "      <td>✅ Trip Verified</td>\n",
              "    </tr>\n",
              "    <tr>\n",
              "      <th>4</th>\n",
              "      <td>5</td>\n",
              "      <td>\"premium price for very average service\"</td>\n",
              "      <td>G Jones</td>\n",
              "      <td>28th April 2023</td>\n",
              "      <td>Regarding the aircraft and seat: The business...</td>\n",
              "      <td>United Kingdom</td>\n",
              "      <td>Not Verified</td>\n",
              "    </tr>\n",
              "  </tbody>\n",
              "</table>\n",
              "</div>\n",
              "      <button class=\"colab-df-convert\" onclick=\"convertToInteractive('df-06361e7f-cb20-4631-9c2b-0c0321c9c0f1')\"\n",
              "              title=\"Convert this dataframe to an interactive table.\"\n",
              "              style=\"display:none;\">\n",
              "        \n",
              "  <svg xmlns=\"http://www.w3.org/2000/svg\" height=\"24px\"viewBox=\"0 0 24 24\"\n",
              "       width=\"24px\">\n",
              "    <path d=\"M0 0h24v24H0V0z\" fill=\"none\"/>\n",
              "    <path d=\"M18.56 5.44l.94 2.06.94-2.06 2.06-.94-2.06-.94-.94-2.06-.94 2.06-2.06.94zm-11 1L8.5 8.5l.94-2.06 2.06-.94-2.06-.94L8.5 2.5l-.94 2.06-2.06.94zm10 10l.94 2.06.94-2.06 2.06-.94-2.06-.94-.94-2.06-.94 2.06-2.06.94z\"/><path d=\"M17.41 7.96l-1.37-1.37c-.4-.4-.92-.59-1.43-.59-.52 0-1.04.2-1.43.59L10.3 9.45l-7.72 7.72c-.78.78-.78 2.05 0 2.83L4 21.41c.39.39.9.59 1.41.59.51 0 1.02-.2 1.41-.59l7.78-7.78 2.81-2.81c.8-.78.8-2.07 0-2.86zM5.41 20L4 18.59l7.72-7.72 1.47 1.35L5.41 20z\"/>\n",
              "  </svg>\n",
              "      </button>\n",
              "      \n",
              "  <style>\n",
              "    .colab-df-container {\n",
              "      display:flex;\n",
              "      flex-wrap:wrap;\n",
              "      gap: 12px;\n",
              "    }\n",
              "\n",
              "    .colab-df-convert {\n",
              "      background-color: #E8F0FE;\n",
              "      border: none;\n",
              "      border-radius: 50%;\n",
              "      cursor: pointer;\n",
              "      display: none;\n",
              "      fill: #1967D2;\n",
              "      height: 32px;\n",
              "      padding: 0 0 0 0;\n",
              "      width: 32px;\n",
              "    }\n",
              "\n",
              "    .colab-df-convert:hover {\n",
              "      background-color: #E2EBFA;\n",
              "      box-shadow: 0px 1px 2px rgba(60, 64, 67, 0.3), 0px 1px 3px 1px rgba(60, 64, 67, 0.15);\n",
              "      fill: #174EA6;\n",
              "    }\n",
              "\n",
              "    [theme=dark] .colab-df-convert {\n",
              "      background-color: #3B4455;\n",
              "      fill: #D2E3FC;\n",
              "    }\n",
              "\n",
              "    [theme=dark] .colab-df-convert:hover {\n",
              "      background-color: #434B5C;\n",
              "      box-shadow: 0px 1px 3px 1px rgba(0, 0, 0, 0.15);\n",
              "      filter: drop-shadow(0px 1px 2px rgba(0, 0, 0, 0.3));\n",
              "      fill: #FFFFFF;\n",
              "    }\n",
              "  </style>\n",
              "\n",
              "      <script>\n",
              "        const buttonEl =\n",
              "          document.querySelector('#df-06361e7f-cb20-4631-9c2b-0c0321c9c0f1 button.colab-df-convert');\n",
              "        buttonEl.style.display =\n",
              "          google.colab.kernel.accessAllowed ? 'block' : 'none';\n",
              "\n",
              "        async function convertToInteractive(key) {\n",
              "          const element = document.querySelector('#df-06361e7f-cb20-4631-9c2b-0c0321c9c0f1');\n",
              "          const dataTable =\n",
              "            await google.colab.kernel.invokeFunction('convertToInteractive',\n",
              "                                                     [key], {});\n",
              "          if (!dataTable) return;\n",
              "\n",
              "          const docLinkHtml = 'Like what you see? Visit the ' +\n",
              "            '<a target=\"_blank\" href=https://colab.research.google.com/notebooks/data_table.ipynb>data table notebook</a>'\n",
              "            + ' to learn more about interactive tables.';\n",
              "          element.innerHTML = '';\n",
              "          dataTable['output_type'] = 'display_data';\n",
              "          await google.colab.output.renderOutput(dataTable, element);\n",
              "          const docLink = document.createElement('div');\n",
              "          docLink.innerHTML = docLinkHtml;\n",
              "          element.appendChild(docLink);\n",
              "        }\n",
              "      </script>\n",
              "    </div>\n",
              "  </div>\n",
              "  "
            ]
          },
          "metadata": {},
          "execution_count": 135
        }
      ]
    },
    {
      "cell_type": "code",
      "source": [
        "df.info()"
      ],
      "metadata": {
        "colab": {
          "base_uri": "https://localhost:8080/"
        },
        "id": "dh-2P9PU_lfi",
        "outputId": "667ea167-efad-427b-f9d5-39a935e86501"
      },
      "execution_count": 136,
      "outputs": [
        {
          "output_type": "stream",
          "name": "stdout",
          "text": [
            "<class 'pandas.core.frame.DataFrame'>\n",
            "RangeIndex: 1000 entries, 0 to 999\n",
            "Data columns (total 7 columns):\n",
            " #   Column         Non-Null Count  Dtype \n",
            "---  ------         --------------  ----- \n",
            " 0   rating         1000 non-null   object\n",
            " 1   headline       1000 non-null   object\n",
            " 2   author         1000 non-null   object\n",
            " 3   time           1000 non-null   object\n",
            " 4   content        1000 non-null   object\n",
            " 5   location_info  1000 non-null   object\n",
            " 6   trip_varified  1000 non-null   object\n",
            "dtypes: object(7)\n",
            "memory usage: 54.8+ KB\n"
          ]
        }
      ]
    },
    {
      "cell_type": "code",
      "source": [
        "df['rating'] = df['rating'].astype(float)\n",
        "df['time'] = pd.to_datetime(df['time'])"
      ],
      "metadata": {
        "id": "JjPvpgQH_XVH"
      },
      "execution_count": 137,
      "outputs": []
    },
    {
      "cell_type": "code",
      "source": [
        "df['trip_verified'] = df['trip_varified'].str.contains('✅ Trip Verified')\n",
        "df['trip_verified'] = df['trip_verified'].astype(bool)\n",
        "df = df.drop('trip_varified', axis=1)\n"
      ],
      "metadata": {
        "id": "eonDb7wHEKsY"
      },
      "execution_count": 138,
      "outputs": []
    },
    {
      "cell_type": "code",
      "source": [
        "df.info()"
      ],
      "metadata": {
        "colab": {
          "base_uri": "https://localhost:8080/"
        },
        "id": "_t8VYfo4AEk9",
        "outputId": "ca2f8194-d4c1-4c35-9bd5-70827c1ccfb1"
      },
      "execution_count": 139,
      "outputs": [
        {
          "output_type": "stream",
          "name": "stdout",
          "text": [
            "<class 'pandas.core.frame.DataFrame'>\n",
            "RangeIndex: 1000 entries, 0 to 999\n",
            "Data columns (total 7 columns):\n",
            " #   Column         Non-Null Count  Dtype         \n",
            "---  ------         --------------  -----         \n",
            " 0   rating         1000 non-null   float64       \n",
            " 1   headline       1000 non-null   object        \n",
            " 2   author         1000 non-null   object        \n",
            " 3   time           1000 non-null   datetime64[ns]\n",
            " 4   content        1000 non-null   object        \n",
            " 5   location_info  1000 non-null   object        \n",
            " 6   trip_verified  1000 non-null   bool          \n",
            "dtypes: bool(1), datetime64[ns](1), float64(1), object(4)\n",
            "memory usage: 48.0+ KB\n"
          ]
        }
      ]
    },
    {
      "cell_type": "code",
      "source": [
        "df['headline'] = df['headline'].str.replace('\"', '')\n"
      ],
      "metadata": {
        "id": "f4YPOiaiRalW"
      },
      "execution_count": 141,
      "outputs": []
    },
    {
      "cell_type": "code",
      "source": [
        "df.head()"
      ],
      "metadata": {
        "id": "dWREf9vgR7uk",
        "outputId": "34fb42e6-bc04-4442-acb7-04ec70a40b60",
        "colab": {
          "base_uri": "https://localhost:8080/",
          "height": 206
        }
      },
      "execution_count": 142,
      "outputs": [
        {
          "output_type": "execute_result",
          "data": {
            "text/plain": [
              "   rating                                headline            author  \\\n",
              "0     1.0          most appalling airline service           C Peale   \n",
              "1     1.0            Customer service is shocking     Jason Wickert   \n",
              "2     1.0                     Avoid this airline          S Dasirou   \n",
              "3     2.0         a lot of actual lies being told  Alexander George   \n",
              "4     5.0  premium price for very average service           G Jones   \n",
              "\n",
              "        time                                            content  \\\n",
              "0 2023-05-08    I will never travel with British Airways aga...   \n",
              "1 2023-05-06    I am already in Portugal so contacted them t...   \n",
              "2 2023-05-06    Terrible. Avoid this airline. It’s now becom...   \n",
              "3 2023-05-01    Despite being a gold member, the British Air...   \n",
              "4 2023-04-28   Regarding the aircraft and seat: The business...   \n",
              "\n",
              "    location_info  trip_verified  \n",
              "0       Australia           True  \n",
              "1  United Kingdom           True  \n",
              "2  United Kingdom           True  \n",
              "3  United Kingdom           True  \n",
              "4  United Kingdom          False  "
            ],
            "text/html": [
              "\n",
              "  <div id=\"df-22266417-fa3e-4ee2-95b0-f396d8811578\">\n",
              "    <div class=\"colab-df-container\">\n",
              "      <div>\n",
              "<style scoped>\n",
              "    .dataframe tbody tr th:only-of-type {\n",
              "        vertical-align: middle;\n",
              "    }\n",
              "\n",
              "    .dataframe tbody tr th {\n",
              "        vertical-align: top;\n",
              "    }\n",
              "\n",
              "    .dataframe thead th {\n",
              "        text-align: right;\n",
              "    }\n",
              "</style>\n",
              "<table border=\"1\" class=\"dataframe\">\n",
              "  <thead>\n",
              "    <tr style=\"text-align: right;\">\n",
              "      <th></th>\n",
              "      <th>rating</th>\n",
              "      <th>headline</th>\n",
              "      <th>author</th>\n",
              "      <th>time</th>\n",
              "      <th>content</th>\n",
              "      <th>location_info</th>\n",
              "      <th>trip_verified</th>\n",
              "    </tr>\n",
              "  </thead>\n",
              "  <tbody>\n",
              "    <tr>\n",
              "      <th>0</th>\n",
              "      <td>1.0</td>\n",
              "      <td>most appalling airline service</td>\n",
              "      <td>C Peale</td>\n",
              "      <td>2023-05-08</td>\n",
              "      <td>I will never travel with British Airways aga...</td>\n",
              "      <td>Australia</td>\n",
              "      <td>True</td>\n",
              "    </tr>\n",
              "    <tr>\n",
              "      <th>1</th>\n",
              "      <td>1.0</td>\n",
              "      <td>Customer service is shocking</td>\n",
              "      <td>Jason Wickert</td>\n",
              "      <td>2023-05-06</td>\n",
              "      <td>I am already in Portugal so contacted them t...</td>\n",
              "      <td>United Kingdom</td>\n",
              "      <td>True</td>\n",
              "    </tr>\n",
              "    <tr>\n",
              "      <th>2</th>\n",
              "      <td>1.0</td>\n",
              "      <td>Avoid this airline</td>\n",
              "      <td>S Dasirou</td>\n",
              "      <td>2023-05-06</td>\n",
              "      <td>Terrible. Avoid this airline. It’s now becom...</td>\n",
              "      <td>United Kingdom</td>\n",
              "      <td>True</td>\n",
              "    </tr>\n",
              "    <tr>\n",
              "      <th>3</th>\n",
              "      <td>2.0</td>\n",
              "      <td>a lot of actual lies being told</td>\n",
              "      <td>Alexander George</td>\n",
              "      <td>2023-05-01</td>\n",
              "      <td>Despite being a gold member, the British Air...</td>\n",
              "      <td>United Kingdom</td>\n",
              "      <td>True</td>\n",
              "    </tr>\n",
              "    <tr>\n",
              "      <th>4</th>\n",
              "      <td>5.0</td>\n",
              "      <td>premium price for very average service</td>\n",
              "      <td>G Jones</td>\n",
              "      <td>2023-04-28</td>\n",
              "      <td>Regarding the aircraft and seat: The business...</td>\n",
              "      <td>United Kingdom</td>\n",
              "      <td>False</td>\n",
              "    </tr>\n",
              "  </tbody>\n",
              "</table>\n",
              "</div>\n",
              "      <button class=\"colab-df-convert\" onclick=\"convertToInteractive('df-22266417-fa3e-4ee2-95b0-f396d8811578')\"\n",
              "              title=\"Convert this dataframe to an interactive table.\"\n",
              "              style=\"display:none;\">\n",
              "        \n",
              "  <svg xmlns=\"http://www.w3.org/2000/svg\" height=\"24px\"viewBox=\"0 0 24 24\"\n",
              "       width=\"24px\">\n",
              "    <path d=\"M0 0h24v24H0V0z\" fill=\"none\"/>\n",
              "    <path d=\"M18.56 5.44l.94 2.06.94-2.06 2.06-.94-2.06-.94-.94-2.06-.94 2.06-2.06.94zm-11 1L8.5 8.5l.94-2.06 2.06-.94-2.06-.94L8.5 2.5l-.94 2.06-2.06.94zm10 10l.94 2.06.94-2.06 2.06-.94-2.06-.94-.94-2.06-.94 2.06-2.06.94z\"/><path d=\"M17.41 7.96l-1.37-1.37c-.4-.4-.92-.59-1.43-.59-.52 0-1.04.2-1.43.59L10.3 9.45l-7.72 7.72c-.78.78-.78 2.05 0 2.83L4 21.41c.39.39.9.59 1.41.59.51 0 1.02-.2 1.41-.59l7.78-7.78 2.81-2.81c.8-.78.8-2.07 0-2.86zM5.41 20L4 18.59l7.72-7.72 1.47 1.35L5.41 20z\"/>\n",
              "  </svg>\n",
              "      </button>\n",
              "      \n",
              "  <style>\n",
              "    .colab-df-container {\n",
              "      display:flex;\n",
              "      flex-wrap:wrap;\n",
              "      gap: 12px;\n",
              "    }\n",
              "\n",
              "    .colab-df-convert {\n",
              "      background-color: #E8F0FE;\n",
              "      border: none;\n",
              "      border-radius: 50%;\n",
              "      cursor: pointer;\n",
              "      display: none;\n",
              "      fill: #1967D2;\n",
              "      height: 32px;\n",
              "      padding: 0 0 0 0;\n",
              "      width: 32px;\n",
              "    }\n",
              "\n",
              "    .colab-df-convert:hover {\n",
              "      background-color: #E2EBFA;\n",
              "      box-shadow: 0px 1px 2px rgba(60, 64, 67, 0.3), 0px 1px 3px 1px rgba(60, 64, 67, 0.15);\n",
              "      fill: #174EA6;\n",
              "    }\n",
              "\n",
              "    [theme=dark] .colab-df-convert {\n",
              "      background-color: #3B4455;\n",
              "      fill: #D2E3FC;\n",
              "    }\n",
              "\n",
              "    [theme=dark] .colab-df-convert:hover {\n",
              "      background-color: #434B5C;\n",
              "      box-shadow: 0px 1px 3px 1px rgba(0, 0, 0, 0.15);\n",
              "      filter: drop-shadow(0px 1px 2px rgba(0, 0, 0, 0.3));\n",
              "      fill: #FFFFFF;\n",
              "    }\n",
              "  </style>\n",
              "\n",
              "      <script>\n",
              "        const buttonEl =\n",
              "          document.querySelector('#df-22266417-fa3e-4ee2-95b0-f396d8811578 button.colab-df-convert');\n",
              "        buttonEl.style.display =\n",
              "          google.colab.kernel.accessAllowed ? 'block' : 'none';\n",
              "\n",
              "        async function convertToInteractive(key) {\n",
              "          const element = document.querySelector('#df-22266417-fa3e-4ee2-95b0-f396d8811578');\n",
              "          const dataTable =\n",
              "            await google.colab.kernel.invokeFunction('convertToInteractive',\n",
              "                                                     [key], {});\n",
              "          if (!dataTable) return;\n",
              "\n",
              "          const docLinkHtml = 'Like what you see? Visit the ' +\n",
              "            '<a target=\"_blank\" href=https://colab.research.google.com/notebooks/data_table.ipynb>data table notebook</a>'\n",
              "            + ' to learn more about interactive tables.';\n",
              "          element.innerHTML = '';\n",
              "          dataTable['output_type'] = 'display_data';\n",
              "          await google.colab.output.renderOutput(dataTable, element);\n",
              "          const docLink = document.createElement('div');\n",
              "          docLink.innerHTML = docLinkHtml;\n",
              "          element.appendChild(docLink);\n",
              "        }\n",
              "      </script>\n",
              "    </div>\n",
              "  </div>\n",
              "  "
            ]
          },
          "metadata": {},
          "execution_count": 142
        }
      ]
    },
    {
      "cell_type": "code",
      "source": [
        "# save the DataFrame as a CSV file\n",
        "df.to_csv('clea_BA_data.csv', index=False)"
      ],
      "metadata": {
        "id": "udWrWi1ySLkL"
      },
      "execution_count": 143,
      "outputs": []
    }
  ],
  "metadata": {
    "colab": {
      "provenance": [],
      "authorship_tag": "ABX9TyN8dnQICcWVYKxuaw+mTnc9",
      "include_colab_link": true
    },
    "kernelspec": {
      "display_name": "Python 3",
      "name": "python3"
    },
    "language_info": {
      "name": "python"
    }
  },
  "nbformat": 4,
  "nbformat_minor": 0
}